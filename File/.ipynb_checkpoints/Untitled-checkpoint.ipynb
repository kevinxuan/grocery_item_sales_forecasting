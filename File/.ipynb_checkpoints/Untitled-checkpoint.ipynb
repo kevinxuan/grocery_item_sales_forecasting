{
 "cells": [
  {
   "cell_type": "code",
   "execution_count": 17,
   "metadata": {},
   "outputs": [
    {
     "name": "stdout",
     "output_type": "stream",
     "text": [
      "Loading Data\n"
     ]
    }
   ],
   "source": [
    "from datetime import date, timedelta\n",
    "import calendar as ca\n",
    "import pandas as pd\n",
    "import numpy as np\n",
    "from sklearn.metrics import mean_squared_error\n",
    "import lightgbm as lgb\n",
    "print('Loading Data')\n",
    "import os\n",
    "os.chdir('/Users/apple/Desktop/NewA/kaggle/')\n",
    "df_train = pd.read_csv('lgb_6wks'.csv',header =0 , sep =\",\") "
   ]
  },
  {
   "cell_type": "code",
   "execution_count": 11,
   "metadata": {},
   "outputs": [
    {
     "data": {
      "text/plain": [
       "210653.9375"
      ]
     },
     "execution_count": 11,
     "metadata": {},
     "output_type": "execute_result"
    }
   ],
   "source": [
    "3370463 *1/16"
   ]
  },
  {
   "cell_type": "code",
   "execution_count": 26,
   "metadata": {},
   "outputs": [
    {
     "data": {
      "text/plain": [
       "id            128656850.0\n",
       "unit_sales            0.0\n",
       "Name: 3159810, dtype: float64"
      ]
     },
     "execution_count": 26,
     "metadata": {},
     "output_type": "execute_result"
    }
   ],
   "source": [
    "df_train.iloc[3370422]"
   ]
  },
  {
   "cell_type": "code",
   "execution_count": null,
   "metadata": {
    "collapsed": true
   },
   "outputs": [],
   "source": [
    "print(df_train.iloc[3159811])\n",
    "print(df_train.iloc[3222222])\n",
    "print(df_train.iloc[3370462])"
   ]
  },
  {
   "cell_type": "code",
   "execution_count": 24,
   "metadata": {
    "collapsed": true
   },
   "outputs": [],
   "source": [
    "df_train.iloc[3159810:,1] = 0"
   ]
  },
  {
   "cell_type": "code",
   "execution_count": 30,
   "metadata": {},
   "outputs": [
    {
     "name": "stdout",
     "output_type": "stream",
     "text": [
      "id            128656851.0\n",
      "unit_sales            0.0\n",
      "Name: 3159811, dtype: float64\n",
      "id            128719262.0\n",
      "unit_sales            0.0\n",
      "Name: 3222222, dtype: float64\n",
      "id            128867502.0\n",
      "unit_sales            0.0\n",
      "Name: 3370462, dtype: float64\n"
     ]
    }
   ],
   "source": [
    "print(df_train.iloc[3159811])\n",
    "print(df_train.iloc[3222222])\n",
    "print(df_train.iloc[3370462])"
   ]
  },
  {
   "cell_type": "code",
   "execution_count": null,
   "metadata": {
    "collapsed": true
   },
   "outputs": [],
   "source": [
    "df_train.to_csv('lgb_0.csv',float_format='%.4f', index=None)"
   ]
  }
 ],
 "metadata": {
  "kernelspec": {
   "display_name": "Python 3",
   "language": "python",
   "name": "python3"
  },
  "language_info": {
   "codemirror_mode": {
    "name": "ipython",
    "version": 3
   },
   "file_extension": ".py",
   "mimetype": "text/x-python",
   "name": "python",
   "nbconvert_exporter": "python",
   "pygments_lexer": "ipython3",
   "version": "3.6.2"
  }
 },
 "nbformat": 4,
 "nbformat_minor": 2
}
